{
 "cells": [
  {
   "cell_type": "raw",
   "id": "2c9fbbfb",
   "metadata": {},
   "source": [
    "1.What are the two values of the Boolean data type? How do you write them?\n",
    "\n",
    "True , False"
   ]
  },
  {
   "cell_type": "raw",
   "id": "b08d39c1",
   "metadata": {},
   "source": [
    "2. What are the three different types of Boolean operators?\n",
    "\n",
    "and, or, not"
   ]
  },
  {
   "cell_type": "raw",
   "id": "d38683aa",
   "metadata": {},
   "source": [
    "3. Make a list of each Boolean operator's truth tables (i.e. every possible combination of Boolean values for the operator and what it evaluate ).\n",
    "\n",
    "AND:\n",
    "    True  and True   -  True\n",
    "    True  and False  -  False\n",
    "    False and True   -  False\n",
    "    False and False  -  False\n",
    "    \n",
    "OR:\n",
    "    True  or True   -  True\n",
    "    True  or False  -  True\n",
    "    False or True   -  True\n",
    "    False or False  -  False\n",
    "    \n",
    "NOT:\n",
    "    not True  - False\n",
    "    not False - True"
   ]
  },
  {
   "cell_type": "raw",
   "id": "da1908a6",
   "metadata": {},
   "source": [
    "4. What are the values of the following expressions?\n",
    "\n",
    "(5 > 4) and (3 == 5)\n",
    "    False\n",
    "not (5 > 4)\n",
    "    False\n",
    "(5 > 4) or (3 == 5)\n",
    "    True\n",
    "not ((5 > 4) or (3 == 5))\n",
    "    False\n",
    "(True and True) and (True == False)\n",
    "    False\n",
    "(not False) or (not True)\n",
    "    True"
   ]
  },
  {
   "cell_type": "raw",
   "id": "73b269b6",
   "metadata": {},
   "source": [
    "(True and True) and (True == False)"
   ]
  },
  {
   "cell_type": "raw",
   "id": "ed68ec49",
   "metadata": {},
   "source": [
    "5. What are the six comparison operators?\n",
    "\n",
    "<,>,==,>=,<=,!="
   ]
  },
  {
   "cell_type": "raw",
   "id": "c27cbca5",
   "metadata": {},
   "source": [
    "6. How do you tell the difference between the equal to and assignment operators?Describe a condition and when you would use one.\n",
    "\n",
    "Assignment operator assign value to variable\n",
    "eg : assigning 10 to a\n",
    "     a = 10\n",
    "Equal to compare left and right values/expression and result boolean\n",
    "eg : checking a equal to 10\n",
    "     a == 10\n",
    "\n"
   ]
  },
  {
   "cell_type": "raw",
   "id": "74c8263f",
   "metadata": {},
   "source": [
    "7. Identify the three blocks in this code:\n",
    "\n",
    "spam = 0            -- first block\n",
    "\n",
    "if spam == 10:\n",
    "    print('eggs')   -- second block \n",
    "    \n",
    "if spam > 5:\n",
    "    print('bacon')  -- third block\n",
    "else:\n",
    "    print('ham')   \n",
    "    print('spam')\n",
    "    print('spam')"
   ]
  },
  {
   "cell_type": "code",
   "execution_count": 10,
   "id": "64cc25d1",
   "metadata": {},
   "outputs": [
    {
     "name": "stdout",
     "output_type": "stream",
     "text": [
      "Hello\n"
     ]
    }
   ],
   "source": [
    "\"\"\"8. Write code that prints Hello if 1 is stored in spam, \n",
    "        prints Howdy if 2 is stored in spam, \n",
    "        and prints Greetings! if anything else is stored in spam.\"\"\"\n",
    "\n",
    "spam = 1\n",
    "if spam == 1:\n",
    "    print('Hello')\n",
    "elif spam == 2:\n",
    "    print('Howdy')\n",
    "else:\n",
    "    print('Greetings')\n",
    "    "
   ]
  },
  {
   "cell_type": "raw",
   "id": "c7447430",
   "metadata": {},
   "source": [
    "9.If your programme is stuck in an endless loop, what keys you’ll press?\n",
    "\n",
    "Ctrl + C  -- Keyboard Interrupt"
   ]
  },
  {
   "cell_type": "raw",
   "id": "e5fe1098",
   "metadata": {},
   "source": [
    "10. How can you tell the difference between break and continue?\n",
    "\n",
    "Break - Terminates the entire loop when condition met\n",
    "Continue - Skip only current iteration of the loop when condition met"
   ]
  },
  {
   "cell_type": "raw",
   "id": "54cc8ee8",
   "metadata": {},
   "source": [
    "11. In a for loop, what is the difference between range(10), range(0, 10), and range(0, 10, 1)?\n",
    "\n",
    "All lists same result bt the difference is in parameter used.\n",
    "\n",
    "range(10)       -- range(stop), start is 0 by default, step is 0 by default\n",
    "range(0,10)     -- range(start,stop), step is 0 by default\n",
    "range(0,10,1)   -- range(start,stop,step])\n"
   ]
  },
  {
   "cell_type": "code",
   "execution_count": 18,
   "id": "2f2db06a",
   "metadata": {},
   "outputs": [
    {
     "name": "stdout",
     "output_type": "stream",
     "text": [
      "1\n",
      "2\n",
      "3\n",
      "4\n",
      "5\n",
      "6\n",
      "7\n",
      "8\n",
      "9\n",
      "10\n",
      "1\n",
      "2\n",
      "3\n",
      "4\n",
      "5\n",
      "6\n",
      "7\n",
      "8\n",
      "9\n",
      "10\n"
     ]
    }
   ],
   "source": [
    "\"\"\"12. Write a short program that prints the numbers 1 to 10 using a for loop. \n",
    "    Then write an equivalent program that prints the numbers 1 to 10 using a while loop.\"\"\"\n",
    "\n",
    "for i in range(1,11):\n",
    "    print(i)\n",
    "    \n",
    "i = 1\n",
    "while i <= 10:\n",
    "    print(i)\n",
    "    i +=1"
   ]
  },
  {
   "cell_type": "raw",
   "id": "84bdabc2",
   "metadata": {},
   "source": [
    "13. If you had a function named bacon() inside a module named spam, how would you call it after importing spam?\n",
    "\n",
    "spam.bacon()"
   ]
  },
  {
   "cell_type": "code",
   "execution_count": null,
   "id": "07b85e4b",
   "metadata": {},
   "outputs": [],
   "source": []
  }
 ],
 "metadata": {
  "kernelspec": {
   "display_name": "Python 3",
   "language": "python",
   "name": "python3"
  },
  "language_info": {
   "codemirror_mode": {
    "name": "ipython",
    "version": 3
   },
   "file_extension": ".py",
   "mimetype": "text/x-python",
   "name": "python",
   "nbconvert_exporter": "python",
   "pygments_lexer": "ipython3",
   "version": "3.8.8"
  }
 },
 "nbformat": 4,
 "nbformat_minor": 5
}
