{
 "cells": [
  {
   "cell_type": "markdown",
   "id": "b33e1495",
   "metadata": {},
   "source": [
    "1.What are the two values of the Boolean data type? How do you write them? <br>\n",
    "\n",
    "True , False\n"
   ]
  },
  {
   "cell_type": "markdown",
   "id": "832272c1",
   "metadata": {},
   "source": [
    "2. What are the three different types of Boolean operators? <br>\n",
    "\n",
    "and, or, not"
   ]
  },
  {
   "cell_type": "markdown",
   "id": "cbae4600",
   "metadata": {},
   "source": [
    "3. Make a list of each Boolean operator's truth tables (i.e. every possible combination of Boolean values for the operator and what it evaluate ). <br>\n",
    "\n",
    "AND: <br>\n",
    "    True  and True   -  True<br>\n",
    "    True  and False  -  False<br>\n",
    "    False and True   -  False<br>\n",
    "    False and False  -  False<br>\n",
    "    \n",
    "OR:<br>\n",
    "    True  or True   -  True<br>\n",
    "    True  or False  -  True<br>\n",
    "    False or True   -  True<br>\n",
    "    False or False  -  False<br>\n",
    "    \n",
    "NOT:<br>\n",
    "    not True  - False<br>\n",
    "    not False - True<br>"
   ]
  },
  {
   "cell_type": "markdown",
   "id": "5d1a6054",
   "metadata": {},
   "source": [
    "4. What are the values of the following expressions?<br>\n",
    "\n",
    "(5 > 4) and (3 == 5)<br>\n",
    "    False<br>\n",
    "not (5 > 4)<br>\n",
    "    False<br>\n",
    "(5 > 4) or (3 == 5)<br>\n",
    "    True<br>\n",
    "not ((5 > 4) or (3 == 5))<br>\n",
    "    False<br>\n",
    "(True and True) and (True == False)<br>\n",
    "    False<br>\n",
    "(not False) or (not True)<br>\n",
    "    True"
   ]
  },
  {
   "cell_type": "markdown",
   "id": "39c03933",
   "metadata": {},
   "source": [
    "5. What are the six comparison operators?<br>\n",
    "\n",
    "<,>,==,>=,<=,!="
   ]
  },
  {
   "cell_type": "markdown",
   "id": "3249b781",
   "metadata": {},
   "source": [
    "6. How do you tell the difference between the equal to and assignment operators?Describe a condition and when you would use one.<br>\n",
    "\n",
    "Assignment operator assign value to variable<br>\n",
    "eg : assigning 10 to a<br>\n",
    "     a = 10<br>\n",
    "Equal to compare left and right values/expression and result boolean<br>\n",
    "eg : checking a equal to 10<br>\n",
    "     a == 10\n",
    "\n"
   ]
  },
  {
   "cell_type": "markdown",
   "id": "98a3a9ca",
   "metadata": {},
   "source": [
    "7. Identify the three blocks in this code:<br>\n",
    "\n",
    "spam = 0            -- first block<br>\n",
    "\n",
    "if spam == 10:<br>\n",
    "    print('eggs')   -- second block <br>\n",
    "    \n",
    "if spam > 5:<br>\n",
    "    print('bacon')  -- third block<br>\n",
    "else:<br>\n",
    "    print('ham')   <br>\n",
    "    print('spam')<br>\n",
    "    print('spam')<br>"
   ]
  },
  {
   "cell_type": "code",
   "execution_count": 10,
   "id": "46be5a3f",
   "metadata": {},
   "outputs": [
    {
     "name": "stdout",
     "output_type": "stream",
     "text": [
      "Hello\n"
     ]
    }
   ],
   "source": [
    "\"\"\"8. Write code that prints Hello if 1 is stored in spam, \n",
    "        prints Howdy if 2 is stored in spam, \n",
    "        and prints Greetings! if anything else is stored in spam.\"\"\"\n",
    "\n",
    "spam = 1\n",
    "if spam == 1:\n",
    "    print('Hello')\n",
    "elif spam == 2:\n",
    "    print('Howdy')\n",
    "else:\n",
    "    print('Greetings')\n",
    "    "
   ]
  },
  {
   "cell_type": "markdown",
   "id": "82ec760b",
   "metadata": {},
   "source": [
    "9.If your programme is stuck in an endless loop, what keys you’ll press?<br>\n",
    "\n",
    "Ctrl + C  -- Keyboard Interrupt"
   ]
  },
  {
   "cell_type": "markdown",
   "id": "b02d34f0",
   "metadata": {},
   "source": [
    "10. How can you tell the difference between break and continue?<br>\n",
    "\n",
    "Break - Terminates the entire loop when condition met<br>\n",
    "Continue - Skip only current iteration of the loop when condition met"
   ]
  },
  {
   "cell_type": "markdown",
   "id": "76785e5b",
   "metadata": {},
   "source": [
    "11. In a for loop, what is the difference between range(10), range(0, 10), and range(0, 10, 1)?<br>\n",
    "\n",
    "All lists same result bt the difference is in parameter used.<br>\n",
    "\n",
    "range(10)       -- range(stop), start is 0 by default, step is 0 by default<br>\n",
    "range(0,10)     -- range(start,stop), step is 0 by default<br>\n",
    "range(0,10,1)   -- range(start,stop,step])\n"
   ]
  },
  {
   "cell_type": "code",
   "execution_count": 18,
   "id": "474c5482",
   "metadata": {},
   "outputs": [
    {
     "name": "stdout",
     "output_type": "stream",
     "text": [
      "1\n",
      "2\n",
      "3\n",
      "4\n",
      "5\n",
      "6\n",
      "7\n",
      "8\n",
      "9\n",
      "10\n",
      "1\n",
      "2\n",
      "3\n",
      "4\n",
      "5\n",
      "6\n",
      "7\n",
      "8\n",
      "9\n",
      "10\n"
     ]
    }
   ],
   "source": [
    "\"\"\"12. Write a short program that prints the numbers 1 to 10 using a for loop. \n",
    "    Then write an equivalent program that prints the numbers 1 to 10 using a while loop.\"\"\"\n",
    "\n",
    "for i in range(1,11):\n",
    "    print(i)\n",
    "    \n",
    "i = 1\n",
    "while i <= 10:\n",
    "    print(i)\n",
    "    i +=1"
   ]
  },
  {
   "cell_type": "markdown",
   "id": "500e5dce",
   "metadata": {},
   "source": [
    "13. If you had a function named bacon() inside a module named spam, how would you call it after importing spam?<br>\n",
    "\n",
    "spam.bacon()"
   ]
  },
  {
   "cell_type": "code",
   "execution_count": null,
   "id": "86bd4ec9",
   "metadata": {},
   "outputs": [],
   "source": []
  }
 ],
 "metadata": {
  "kernelspec": {
   "display_name": "Python 3",
   "language": "python",
   "name": "python3"
  },
  "language_info": {
   "codemirror_mode": {
    "name": "ipython",
    "version": 3
   },
   "file_extension": ".py",
   "mimetype": "text/x-python",
   "name": "python",
   "nbconvert_exporter": "python",
   "pygments_lexer": "ipython3",
   "version": "3.8.8"
  }
 },
 "nbformat": 4,
 "nbformat_minor": 5
}
