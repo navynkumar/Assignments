{
 "cells": [
  {
   "cell_type": "markdown",
   "id": "7c8d7f9e",
   "metadata": {},
   "source": [
    "1. What is a lambda function in Python, and how does it differ from a regular function?<br>\n",
    "\n",
    "* lambda is a small unnamed function., it is differ from regular because it does not need any function name mandatory and can have only one simple expression <br>\n",
    "\n",
    "* lambda a,b : a+b"
   ]
  },
  {
   "cell_type": "code",
   "execution_count": 2,
   "id": "888ea01c",
   "metadata": {},
   "outputs": [
    {
     "name": "stdout",
     "output_type": "stream",
     "text": [
      "60\n"
     ]
    },
    {
     "data": {
      "text/plain": [
       "40"
      ]
     },
     "execution_count": 2,
     "metadata": {},
     "output_type": "execute_result"
    }
   ],
   "source": [
    "# 2. Can a lambda function in Python have multiple arguments? If yes, how can you define and use them?\n",
    "\n",
    "# yes, lambda can have multiple arguments bt defining them by comma seperated value after lambda keyword \n",
    "# and followed by colon we can use them in simple expression \n",
    "\n",
    "(lambda a,b : print(a+b))(20,40)\n",
    "\n",
    "sum = lambda a,b : a+b\n",
    "sum(10,30)"
   ]
  },
  {
   "cell_type": "code",
   "execution_count": 34,
   "id": "5dd12f88",
   "metadata": {},
   "outputs": [
    {
     "data": {
      "text/plain": [
       "[0, 2, 4, 6, 8, 10]"
      ]
     },
     "execution_count": 34,
     "metadata": {},
     "output_type": "execute_result"
    }
   ],
   "source": [
    "# 3. How are lambda functions typically used in Python? Provide an example use case.\n",
    "\n",
    "# used when a function needed for one time use with simple expressions\n",
    "even_number = lambda x : [i for i in range (x) if i%2==0]\n",
    "even_number(11)\n",
    "\n",
    "# used in high order functions as arguments\n",
    "num_list = [0,1,2,3,4,5,6,7,8,9,10]\n",
    "even_list = list(filter(lambda x : x%2==0, num_list))\n",
    "even_list"
   ]
  },
  {
   "cell_type": "markdown",
   "id": "062acdef",
   "metadata": {},
   "source": [
    "4. What are the advantages and limitations of lambda functions compared to regular functions in Python?<br>\n",
    "* Advantages<br>\n",
    "very concise code<br>\n",
    "used for single time calling function<br>\n",
    "\n",
    "\n",
    "* Limitations<br>\n",
    "lack readability for beginner<br>\n",
    "cannot use complex expression and statements\n",
    "\n"
   ]
  },
  {
   "cell_type": "code",
   "execution_count": 38,
   "id": "cf61d349",
   "metadata": {},
   "outputs": [
    {
     "data": {
      "text/plain": [
       "40"
      ]
     },
     "execution_count": 38,
     "metadata": {},
     "output_type": "execute_result"
    }
   ],
   "source": [
    "# 5. Are lambda functions in Python able to access variables defined outside of their own scope? Explain with an example.\n",
    "\n",
    "#Yes\n",
    "\n",
    "z=10\n",
    "x,y = 10,20\n",
    "sum = lambda a,b : a+b+z\n",
    "sum(x,y)"
   ]
  },
  {
   "cell_type": "code",
   "execution_count": 41,
   "id": "006a1e2f",
   "metadata": {},
   "outputs": [
    {
     "data": {
      "text/plain": [
       "36"
      ]
     },
     "execution_count": 41,
     "metadata": {},
     "output_type": "execute_result"
    }
   ],
   "source": [
    "# 6. Write a lambda function to calculate the square of a given number.\n",
    "\n",
    "square = lambda x : x**2\n",
    "square(6)"
   ]
  },
  {
   "cell_type": "code",
   "execution_count": 42,
   "id": "e36009f9",
   "metadata": {},
   "outputs": [
    {
     "data": {
      "text/plain": [
       "99"
      ]
     },
     "execution_count": 42,
     "metadata": {},
     "output_type": "execute_result"
    }
   ],
   "source": [
    "# 7. Create a lambda function to find the maximum value in a list of integers.\n",
    "\n",
    "num_list = [10,20,30,45,65,78,99]\n",
    "maximum_value = lambda x : max(x)\n",
    "maximum_value(num_list)"
   ]
  },
  {
   "cell_type": "code",
   "execution_count": 43,
   "id": "14946f9d",
   "metadata": {},
   "outputs": [
    {
     "data": {
      "text/plain": [
       "[0, 2, 4, 6, 8, 10]"
      ]
     },
     "execution_count": 43,
     "metadata": {},
     "output_type": "execute_result"
    }
   ],
   "source": [
    "# 8. Implement a lambda function to filter out all the even numbers from a list of integers.\n",
    "\n",
    "num_list = [0,1,2,3,4,5,6,7,8,9,10]\n",
    "even_list = list(filter(lambda x : x%2==0, num_list))\n",
    "even_list"
   ]
  },
  {
   "cell_type": "code",
   "execution_count": 46,
   "id": "63690c68",
   "metadata": {},
   "outputs": [
    {
     "data": {
      "text/plain": [
       "['numpy', 'scipy', 'pandas', 'seaborn', 'matplotlib', 'tensorflow']"
      ]
     },
     "execution_count": 46,
     "metadata": {},
     "output_type": "execute_result"
    }
   ],
   "source": [
    "# 9. Write a lambda function to sort a list of strings in ascending order based on the length of each string.\n",
    "\n",
    "str_list = ['numpy','scipy','pandas','matplotlib','seaborn','tensorflow']\n",
    "sorted_list = sorted(str_list, key=lambda x: len(x))\n",
    "sorted_list"
   ]
  },
  {
   "cell_type": "code",
   "execution_count": 49,
   "id": "8dc5c766",
   "metadata": {},
   "outputs": [
    {
     "data": {
      "text/plain": [
       "['a', 'e', 'f']"
      ]
     },
     "execution_count": 49,
     "metadata": {},
     "output_type": "execute_result"
    }
   ],
   "source": [
    "# 10. Create a lambda function that takes two lists as input and returns a new list containing the common elements between the two lists.\n",
    "\n",
    "list_1 = ['a','b','c','d','e','f']\n",
    "list_2 = ['e','f','g','h','i','a']\n",
    "\n",
    "common_element = lambda x,y: [i for i in list_1 if i in list_2]\n",
    "common_element(list_1,list_2)"
   ]
  },
  {
   "cell_type": "code",
   "execution_count": 51,
   "id": "81598b7a",
   "metadata": {},
   "outputs": [
    {
     "data": {
      "text/plain": [
       "120"
      ]
     },
     "execution_count": 51,
     "metadata": {},
     "output_type": "execute_result"
    }
   ],
   "source": [
    "# 11. Write a recursive function to calculate the factorial of a given positive integer.\n",
    "\n",
    "def factorial(x):\n",
    "    if x>1:\n",
    "        return x * factorial(x-1)\n",
    "    else:\n",
    "        return 1\n",
    "    \n",
    "factorial(5)"
   ]
  },
  {
   "cell_type": "code",
   "execution_count": 61,
   "id": "09098e64",
   "metadata": {},
   "outputs": [
    {
     "data": {
      "text/plain": [
       "5"
      ]
     },
     "execution_count": 61,
     "metadata": {},
     "output_type": "execute_result"
    }
   ],
   "source": [
    "# 12. Implement a recursive function to compute the nth Fibonacci number.\n",
    "\n",
    "def fibonacci(n):\n",
    "    if n == 1:\n",
    "        return 0\n",
    "    elif n == 2:\n",
    "        return 1\n",
    "    else:\n",
    "        return  fibonacci(n-1) + fibonacci(n-2)\n",
    "    \n",
    "fibonacci(6)"
   ]
  },
  {
   "cell_type": "code",
   "execution_count": 62,
   "id": "7fb5d48d",
   "metadata": {},
   "outputs": [
    {
     "data": {
      "text/plain": [
       "50"
      ]
     },
     "execution_count": 62,
     "metadata": {},
     "output_type": "execute_result"
    }
   ],
   "source": [
    "# 13. Create a recursive function to find the sum of all the elements in a given list.\n",
    "list_1 = [10,10,10,10,10]\n",
    "length = len(list_1)\n",
    "\n",
    "def list_sum(list_1,i):\n",
    "    if i<=0:\n",
    "        return 0\n",
    "    else:\n",
    "        return list_1[i-1] + list_sum(list_1,i-1)\n",
    "    \n",
    "list_sum(list_1,length)"
   ]
  },
  {
   "cell_type": "code",
   "execution_count": 102,
   "id": "7476353b",
   "metadata": {},
   "outputs": [
    {
     "name": "stdout",
     "output_type": "stream",
     "text": [
      "Enter a String: reviver\n",
      "reviver is a palindrome\n"
     ]
    }
   ],
   "source": [
    "# 14. Write a recursive function to determine whether a given string is a palindrome.\n",
    "\n",
    "def palindrome(string,i):\n",
    "    \n",
    "    string_list = list(string)\n",
    "    \n",
    "    if i<(len(string)/2):\n",
    "        return True\n",
    "    \n",
    "    else:\n",
    "        return string_list[i-1].lower() == string_list[len(string_list)-i].lower() and palindrome(string,i-1)\n",
    "    if a:\n",
    "        print(f\"{string} is a palindrome\")\n",
    "    else:\n",
    "        print(f\"{string} is not a palindrome\")\n",
    "        \n",
    "string = input(\"Enter a String: \")\n",
    "length = len(string)\n",
    "\n",
    "a = palindrome(string,length)\n",
    "if a:\n",
    "    print(f\"{string} is a palindrome\")\n",
    "else:\n",
    "    print(f\"{string} is not a palindrome\")\n"
   ]
  },
  {
   "cell_type": "code",
   "execution_count": 114,
   "id": "117c59be",
   "metadata": {},
   "outputs": [
    {
     "data": {
      "text/plain": [
       "7"
      ]
     },
     "execution_count": 114,
     "metadata": {},
     "output_type": "execute_result"
    }
   ],
   "source": [
    "# 15. Implement a recursive function to find the greatest common divisor (GCD) of two positive integers\n",
    "\n",
    "def gcd(a,b):\n",
    "    if b==0:\n",
    "        return a\n",
    "    else:\n",
    "        return gcd(b,a%b)\n",
    "\n",
    "gcd(14,21)    "
   ]
  }
 ],
 "metadata": {
  "kernelspec": {
   "display_name": "Python 3",
   "language": "python",
   "name": "python3"
  },
  "language_info": {
   "codemirror_mode": {
    "name": "ipython",
    "version": 3
   },
   "file_extension": ".py",
   "mimetype": "text/x-python",
   "name": "python",
   "nbconvert_exporter": "python",
   "pygments_lexer": "ipython3",
   "version": "3.8.8"
  }
 },
 "nbformat": 4,
 "nbformat_minor": 5
}
