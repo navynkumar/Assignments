{
 "cells": [
  {
   "cell_type": "markdown",
   "id": "710f7d0d",
   "metadata": {},
   "source": [
    "1. What does an empty dictionary's code look like?<br>\n",
    "\n",
    "{}"
   ]
  },
  {
   "cell_type": "markdown",
   "id": "e04eb44b",
   "metadata": {},
   "source": [
    "2. What is the value of a dictionary value with the key 'foo' and the value 42?<br>\n",
    "\n",
    "dictionary_value = {'foo':42}"
   ]
  },
  {
   "cell_type": "markdown",
   "id": "5dcc3735",
   "metadata": {},
   "source": [
    "3. What is the most significant distinction between a dictionary and a list?<br>\n",
    "\n",
    "list - ordered collection of element, indexed by position<br>\n",
    "dictionary - unordered collection of unique key-value pair"
   ]
  },
  {
   "cell_type": "markdown",
   "id": "764c1907",
   "metadata": {},
   "source": [
    "4. What happens if you try to access spam['foo'] if spam is {'bar': 100}?<br>\n",
    "\n",
    "since there is no key named foo, it will throw a KeyError"
   ]
  },
  {
   "cell_type": "markdown",
   "id": "b07a6148",
   "metadata": {},
   "source": [
    "5. If a dictionary is stored in spam, what is the difference between the expressions 'cat' in spam and 'cat' in spam.keys()?\n",
    "\n",
    "both 'cat' in spam and 'cat' in spam.keys() loop through keys in dictionary spam and check whether 'cat' is available"
   ]
  },
  {
   "cell_type": "markdown",
   "id": "41332d57",
   "metadata": {},
   "source": [
    "6. If a dictionary is stored in spam, what is the difference between the expressions 'cat' in spam and 'cat' in spam.values()?\n",
    "\n",
    "'cat' in spam loop through keys in dictionary spam and check whether 'cat' is available <br>\n",
    "'cat' in spam.keys() loop through values in dictionary spam and check whether 'cat' is available"
   ]
  },
  {
   "cell_type": "markdown",
   "id": "e40d7e81",
   "metadata": {},
   "source": [
    "7. What is a shortcut for the following code?\n",
    "if 'color' not in spam:\n",
    "spam['color'] = 'black'\n",
    "\n",
    "spam.setdefault('color','black')"
   ]
  },
  {
   "cell_type": "code",
   "execution_count": 5,
   "id": "fc8cbe97",
   "metadata": {},
   "outputs": [
    {
     "name": "stdout",
     "output_type": "stream",
     "text": [
      "{'age': 22, 'education': 'mechanical engineering', 'name': 'joe'}\n"
     ]
    }
   ],
   "source": [
    "#8. How do you \"pretty print\" dictionary values using which module and function?\n",
    "\n",
    "import pprint\n",
    "spam = {'name':'joe','age':22,'education':'mechanical engineering'}\n",
    "pprint.pprint(spam)"
   ]
  },
  {
   "cell_type": "code",
   "execution_count": null,
   "id": "055ae992",
   "metadata": {},
   "outputs": [],
   "source": []
  }
 ],
 "metadata": {
  "kernelspec": {
   "display_name": "Python 3",
   "language": "python",
   "name": "python3"
  },
  "language_info": {
   "codemirror_mode": {
    "name": "ipython",
    "version": 3
   },
   "file_extension": ".py",
   "mimetype": "text/x-python",
   "name": "python",
   "nbconvert_exporter": "python",
   "pygments_lexer": "ipython3",
   "version": "3.8.8"
  }
 },
 "nbformat": 4,
 "nbformat_minor": 5
}
