{
 "cells": [
  {
   "cell_type": "markdown",
   "id": "bb70390b",
   "metadata": {},
   "source": [
    "1. What exactly is []? <br>\n",
    "A list that has no value in it"
   ]
  },
  {
   "cell_type": "code",
   "execution_count": 4,
   "id": "0144cf14",
   "metadata": {},
   "outputs": [
    {
     "data": {
      "text/plain": [
       "[2, 4, 6, 'hello', 10]"
      ]
     },
     "execution_count": 4,
     "metadata": {},
     "output_type": "execute_result"
    }
   ],
   "source": [
    "\"\"\"2. In a list of values stored in a variable called spam, \n",
    "      how would you assign the value 'hello' as the third value? (Assume [2, 4, 6, 8, 10] are in spam.)\"\"\"\n",
    "spam = [2, 4, 6, 8, 10]\n",
    "spam[3]='hello'\n",
    "spam"
   ]
  },
  {
   "cell_type": "markdown",
   "id": "6da45174",
   "metadata": {},
   "source": [
    "Let's pretend the spam includes the list ['a', 'b', 'c', 'd'] for the next three queries.<br>\n",
    "\n",
    "3. What is the value of spam[int(int('3' * 2) / 11)]?<br>\n",
    "'d'\n",
    "\n",
    "4. What is the value of spam[-1]?<br>\n",
    "'d'\n",
    "\n",
    "5. What is the value of spam[:2]?<br>\n",
    "['a', 'b']"
   ]
  },
  {
   "cell_type": "markdown",
   "id": "4b5fa48a",
   "metadata": {},
   "source": [
    "Let's pretend bacon has the list [3.14, 'cat', 11, 'cat', True] for the next three questions.<br>\n",
    "\n",
    "6. What is the value of bacon.index('cat')?<br>\n",
    "1\n",
    "7. How does bacon.append(99) change the look of the list value in bacon?<br>\n",
    "[3.14, 'cat', 11, 'cat', True,99]\n",
    "8. How does bacon.remove('cat') change the look of the list in bacon?<br>\n",
    "[3.14, 11, 'cat', True,99]"
   ]
  },
  {
   "cell_type": "markdown",
   "id": "ad5c4280",
   "metadata": {},
   "source": [
    "9. What are the list concatenation and list replication operators?<br>\n",
    "\n",
    "list concatenation operator is +<br>\n",
    "list replication operator is *<br>"
   ]
  },
  {
   "cell_type": "markdown",
   "id": "d24f58c3",
   "metadata": {},
   "source": [
    "10. What is difference between the list methods append() and insert()?<br>\n",
    "\n",
    "append - add value only at the end of the list<br>\n",
    "insert - add value at any index of the list<br>"
   ]
  },
  {
   "cell_type": "markdown",
   "id": "cbb3545d",
   "metadata": {},
   "source": [
    "11. What are the two methods for removing items from a list?<br>\n",
    "pop(),remove()"
   ]
  },
  {
   "cell_type": "markdown",
   "id": "093bbfb4",
   "metadata": {},
   "source": [
    "12. Describe how list values and string values are identical.\n",
    "\n",
    "string is collection of character. List is collection of similar/different data type values.<br>\n",
    "Both type has iterator, hence there are some identical like characteristics (slicing,index), functions (len), looping exists"
   ]
  },
  {
   "cell_type": "markdown",
   "id": "8a79db50",
   "metadata": {},
   "source": [
    "13. What's the difference between tuples and lists?<br>\n",
    "\n",
    "List is mutable meaning that its contents can be changed after the tuple is created<br>\n",
    "tuple is immutable meaning that its contents can't be changed after the tuple is created"
   ]
  },
  {
   "cell_type": "markdown",
   "id": "25dce493",
   "metadata": {},
   "source": [
    "14. How do you type a tuple value that only contains the integer 42?<br>\n",
    "(42)"
   ]
  },
  {
   "cell_type": "markdown",
   "id": "c9d00f74",
   "metadata": {},
   "source": [
    "15. How do you get a list value's tuple form? How do you get a tuple value's list form?\n",
    "By Type conversion.<br>\n",
    "list value's tuple form using tuple() function<br>\n",
    "tuple value's list form using list() function"
   ]
  },
  {
   "cell_type": "markdown",
   "id": "c76501de",
   "metadata": {},
   "source": [
    "16. Variables that \"contain\" list values are not necessarily lists themselves. Instead, what do they contain?<br>\n",
    "They can contain copy/reference of list values as well"
   ]
  },
  {
   "cell_type": "markdown",
   "id": "2491ac05",
   "metadata": {},
   "source": [
    "17. How do you distinguish between copy.copy() and copy.deepcopy()?<br>\n",
    "copy.copy() is shallow copy, reference of object in original memory address, reflect changes made in copied to original list<br>\n",
    "copy.deepcopy() is deep copy, stories copy of the object, does not reflect changes made in copied to original list"
   ]
  }
 ],
 "metadata": {
  "kernelspec": {
   "display_name": "Python 3",
   "language": "python",
   "name": "python3"
  },
  "language_info": {
   "codemirror_mode": {
    "name": "ipython",
    "version": 3
   },
   "file_extension": ".py",
   "mimetype": "text/x-python",
   "name": "python",
   "nbconvert_exporter": "python",
   "pygments_lexer": "ipython3",
   "version": "3.8.8"
  }
 },
 "nbformat": 4,
 "nbformat_minor": 5
}
