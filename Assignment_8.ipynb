{
 "cells": [
  {
   "cell_type": "code",
   "execution_count": 11,
   "id": "ec7ab350",
   "metadata": {},
   "outputs": [
    {
     "name": "stdout",
     "output_type": "stream",
     "text": [
      "hi\n",
      "5\n"
     ]
    }
   ],
   "source": [
    "# 1. In Python, what is the difference between a built-in function and a user-defined function? Provide an example of each.\n",
    "\n",
    "#built in function - already defined in python library, can call whenever need in program\n",
    "print('hi')\n",
    "\n",
    "#used defined function - defined by user in the program and call whenever need in program\n",
    "def sum(a,b):\n",
    "    print(a+b)\n",
    "sum(2,3)"
   ]
  },
  {
   "cell_type": "code",
   "execution_count": 12,
   "id": "69bcc119",
   "metadata": {},
   "outputs": [
    {
     "name": "stdout",
     "output_type": "stream",
     "text": [
      "5\n",
      "5\n"
     ]
    }
   ],
   "source": [
    "# 2. How can you pass arguments to a function in Python? Explain the difference between positional arguments and keyword arguments.\n",
    "\n",
    "# arguments can passed after function name, within th paranthesis\n",
    "\n",
    "def sum(a,b):\n",
    "    print(a+b)\n",
    "\n",
    "# positional arguments - argument are passed to corresponding parameter based on the position it is placed\n",
    "sum(2,3)\n",
    "\n",
    "# keyword arguments - arguments are passed to corressponding parameter based on key-value pair\n",
    "sum(b=3,a=2)"
   ]
  },
  {
   "cell_type": "code",
   "execution_count": 9,
   "id": "5b228ca8",
   "metadata": {},
   "outputs": [
    {
     "data": {
      "text/plain": [
       "30"
      ]
     },
     "execution_count": 9,
     "metadata": {},
     "output_type": "execute_result"
    }
   ],
   "source": [
    "# 3. What is the purpose of the return statement in a function? Can a function have multiple return statements? Explain with an example.\n",
    "\n",
    "# Return exits a function with a value passed after the function call ends, the value can be reused. \n",
    "# No, we cannot have multiple retun statements unless we are using conditional block in it.\n",
    "\n",
    "def sample():\n",
    "    a,b = 10,20\n",
    "    return a+b\n",
    "sample()"
   ]
  },
  {
   "cell_type": "code",
   "execution_count": 14,
   "id": "7b638b67",
   "metadata": {},
   "outputs": [
    {
     "data": {
      "text/plain": [
       "<function __main__.<lambda>(a, b)>"
      ]
     },
     "execution_count": 14,
     "metadata": {},
     "output_type": "execute_result"
    }
   ],
   "source": [
    "# 4. What are lambda functions in Python? How are they different from regular functions? Provide an example where a lambda function can be useful.\n",
    "\n",
    "# lambda is a small unnamed function., it is differ from regular because it does not need any function name mandatory\n",
    "# and can have only one simple expression\n",
    "\n",
    "lambda a,b : a+b"
   ]
  },
  {
   "cell_type": "markdown",
   "id": "04f3b823",
   "metadata": {},
   "source": [
    "5. How does the concept of \"scope\" apply to functions in Python? Explain the difference between local scope and global scope. <br>\n",
    "* Scope is the region inside where a varible is available<br>\n",
    "* local - when a variable is defined inside a function, then it is local scope and available only for that function<br>\n",
    "* global - when a variable is defined outside a function /main program, then it is global scope and available for all the function within the program\n"
   ]
  },
  {
   "cell_type": "markdown",
   "id": "0e76a293",
   "metadata": {},
   "source": [
    "6. How can you use the \"return\" statement in a Python function to return multiple values? <br>\n",
    "* Generally tuple is used to return multiple values (eg. return a,b). But we can use list and dictionary as well"
   ]
  },
  {
   "cell_type": "code",
   "execution_count": 25,
   "id": "a4ffd726",
   "metadata": {},
   "outputs": [
    {
     "name": "stdout",
     "output_type": "stream",
     "text": [
      "pass by value\n",
      "140731321428048 10\n",
      "140731321428368 20\n",
      "pass by reference\n",
      "1852160487040 [10, 20]\n",
      "1852160487040 [20, 20]\n",
      "pass by value\n",
      "1852160467840 [10, 20]\n",
      "1852160178752 [20, 10]\n"
     ]
    }
   ],
   "source": [
    "#7. What is the difference between the \"pass by value\" and \"pass by reference\" concepts when it comes to function arguments in Python?\n",
    "\n",
    "# Pass by Value - passed only copy of the value to the argument, does not affect orignal value\n",
    "# Pass by Reference - passes reference to the original argument, when any operation performed it will affect the original\n",
    "\n",
    "# This concept is different from other programming languages, it depends on data types & operations we performs\n",
    "\n",
    "# pass by value:\n",
    "print('pass by value')\n",
    "def pass_by_int(x):\n",
    "    x = 20\n",
    "    print(id(x),x)\n",
    "    \n",
    "x = 10\n",
    "print(id(x),x)\n",
    "\n",
    "pass_by_int(x)\n",
    "\n",
    "# pass by reference:\n",
    "print('pass by reference')\n",
    "def pass_by_dict(x):\n",
    "    x[0] = 20\n",
    "    print(id(x),x)\n",
    "    \n",
    "x = [10,20]\n",
    "print(id(x),x)\n",
    "\n",
    "pass_by_dict(x)\n",
    "\n",
    "# pass by value\n",
    "print('pass by value')\n",
    "def pass_by_dict_2(x):\n",
    "    x = [20,10]\n",
    "    print(id(x),x)\n",
    "    \n",
    "x = [10,20]\n",
    "print(id(x),x)\n",
    "\n",
    "pass_by_dict_2(x)"
   ]
  },
  {
   "cell_type": "code",
   "execution_count": null,
   "id": "2079adab",
   "metadata": {},
   "outputs": [],
   "source": [
    "8. Create a function that can intake integer or decimal value and do following operations:\n",
    "a. Logarithmic function (log x)\n",
    "b. Exponential function (exp(x))\n",
    "c. Power function with base 2 (2x)\n",
    "d. Square root"
   ]
  },
  {
   "cell_type": "code",
   "execution_count": 23,
   "id": "af505fa3",
   "metadata": {},
   "outputs": [
    {
     "name": "stdout",
     "output_type": "stream",
     "text": [
      "\n",
      "First Name - Naveen\n",
      "Last Name - Kumar\n",
      "    \n"
     ]
    }
   ],
   "source": [
    "# 9. Create a function that takes a full name as an argument and returns first name and last name.\n",
    "def name_split(name):\n",
    "    name = name.split()\n",
    "    print(f\"\"\"\n",
    "First Name - {name[0]}\n",
    "Last Name - {name[1]}\n",
    "    \"\"\")\n",
    "    \n",
    "name_split(\"Naveen Kumar\")"
   ]
  },
  {
   "cell_type": "code",
   "execution_count": null,
   "id": "ba724e29",
   "metadata": {},
   "outputs": [],
   "source": []
  }
 ],
 "metadata": {
  "kernelspec": {
   "display_name": "Python 3",
   "language": "python",
   "name": "python3"
  },
  "language_info": {
   "codemirror_mode": {
    "name": "ipython",
    "version": 3
   },
   "file_extension": ".py",
   "mimetype": "text/x-python",
   "name": "python",
   "nbconvert_exporter": "python",
   "pygments_lexer": "ipython3",
   "version": "3.8.8"
  }
 },
 "nbformat": 4,
 "nbformat_minor": 5
}
