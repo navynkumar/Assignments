{
 "cells": [
  {
   "cell_type": "markdown",
   "id": "bb02cf6d",
   "metadata": {},
   "source": [
    "1. Why are functions advantageous to have in your programs?\n",
    "\n",
    "Used when there is a need to reusage of block of code that do specific task. Hence avoid repeating same set of instrucction again in the program."
   ]
  },
  {
   "cell_type": "markdown",
   "id": "86559185",
   "metadata": {},
   "source": [
    "2. When does the code in a function run: when it's specified or when it's called?\n",
    "\n",
    "When function is invoked/called"
   ]
  },
  {
   "cell_type": "markdown",
   "id": "5130e67c",
   "metadata": {},
   "source": [
    "3. What statement creates a function?\n",
    "\n",
    "def function_name(parameter):"
   ]
  },
  {
   "cell_type": "markdown",
   "id": "5013c27d",
   "metadata": {},
   "source": [
    "4. What is the difference between a function and a function call?\n",
    "\n",
    "function is a piece of code defined, otherwise called as function definition. <br>\n",
    "function call is calling/invoking a function"
   ]
  },
  {
   "cell_type": "markdown",
   "id": "47878cbb",
   "metadata": {},
   "source": [
    "5. How many global scopes are there in a Python program? How many local scopes?\n",
    "\n",
    "There is one global scope & one local scope in a python program"
   ]
  },
  {
   "cell_type": "markdown",
   "id": "7db29ce2",
   "metadata": {},
   "source": [
    "6. What happens to variables in a local scope when the function call returns?\n",
    "\n",
    "When function call returns local scope variables get destroyed"
   ]
  },
  {
   "cell_type": "markdown",
   "id": "835be300",
   "metadata": {},
   "source": [
    "7. What is the concept of a return value? Is it possible to have a return value in an expression?\n",
    "\n",
    "return value is the output value of a function when it is called, it is done with the help of return keyword. It is possible to have return value in an expression either by assigning it to a variable or directly to the expression"
   ]
  },
  {
   "cell_type": "markdown",
   "id": "32721764",
   "metadata": {},
   "source": [
    "8. If a function does not have a return statement, what is the return value of a call to that function?\n",
    "\n",
    "return value is <code>None</code>"
   ]
  },
  {
   "cell_type": "markdown",
   "id": "729a541e",
   "metadata": {},
   "source": [
    "9. How do you make a function variable refer to the global variable?\n",
    "\n",
    "using <code>global</code> keyword"
   ]
  },
  {
   "cell_type": "markdown",
   "id": "166dec5b",
   "metadata": {},
   "source": [
    "10. What is the data type of None?\n",
    "\n",
    "<code>NoneType</code>"
   ]
  },
  {
   "cell_type": "markdown",
   "id": "4fd55064",
   "metadata": {},
   "source": [
    "11. What does the sentence import areallyourpetsnamederic do?\n",
    "\n",
    "Import a module called <code>areallyourpetsnamederic</code>"
   ]
  },
  {
   "cell_type": "markdown",
   "id": "61046a10",
   "metadata": {},
   "source": [
    "12. If you had a bacon() feature in a spam module, what would you call it after importing spam?\n",
    "\n",
    "spam.bacon()"
   ]
  },
  {
   "cell_type": "markdown",
   "id": "bc91bfe2",
   "metadata": {},
   "source": [
    "13. What can you do to save a programme from crashing if it encounters an error?\n",
    "\n",
    "The programme code should should be in try clause that can handle exeption"
   ]
  },
  {
   "cell_type": "markdown",
   "id": "36894d31",
   "metadata": {},
   "source": [
    "14. What is the purpose of the try clause? What is the purpose of the except clause?\n",
    "\n",
    "<code>try</code> clause will monitor the code for exception<br>\n",
    "<code>except</code> clause will run whenever exception occur within try clause\n"
   ]
  }
 ],
 "metadata": {
  "kernelspec": {
   "display_name": "Python 3",
   "language": "python",
   "name": "python3"
  },
  "language_info": {
   "codemirror_mode": {
    "name": "ipython",
    "version": 3
   },
   "file_extension": ".py",
   "mimetype": "text/x-python",
   "name": "python",
   "nbconvert_exporter": "python",
   "pygments_lexer": "ipython3",
   "version": "3.8.8"
  }
 },
 "nbformat": 4,
 "nbformat_minor": 5
}
