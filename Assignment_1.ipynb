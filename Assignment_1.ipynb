{
 "cells": [
  {
   "cell_type": "raw",
   "id": "f0e461b1",
   "metadata": {},
   "source": [
    "1. In the below elements which of them are values or an expression?\n",
    "\n",
    "Values:\n",
    "'hello'\n",
    "-87.8\n",
    "6 \n",
    "\n",
    "Expressions:\n",
    "*\n",
    "- \n",
    "/ \n",
    "+\t"
   ]
  },
  {
   "cell_type": "raw",
   "id": "2b4eb365",
   "metadata": {},
   "source": [
    "2. What is the difference between string and variable?\n",
    "\n",
    "String is a datatype, it is a sequence of character data\n",
    "Variable is a named location used to store data"
   ]
  },
  {
   "cell_type": "raw",
   "id": "dccb5245",
   "metadata": {},
   "source": [
    "3. Describe three different data types.\n",
    "\n",
    "String - sequence of character data enclosed within quotes\n",
    "Integer - Positive/Negative whole number without fraction\n",
    "Float - Real number with decimal point"
   ]
  },
  {
   "cell_type": "raw",
   "id": "966def05",
   "metadata": {},
   "source": [
    "4. What is an expression made up of? What do all expressions do?\n",
    "\n",
    "Expression is combination of operators and operands , assigned the resultant of the expression to the named variable. It is a value or anything that execute\n",
    "eg: x = 1 + 2"
   ]
  },
  {
   "cell_type": "raw",
   "id": "debc9486",
   "metadata": {},
   "source": [
    "5. This assignment statements, like spam = 10. What is the difference between an expression and a statement?\n",
    "\n",
    "Expression:  is a combination of operands and operators to produce values. eg: x = 1+2\n",
    "\n",
    "Statement: an instruction that a python interpreter can execute, eg: a = 2, print('hello')\n"
   ]
  },
  {
   "cell_type": "raw",
   "id": "33349c3e",
   "metadata": {},
   "source": [
    "6. After running the following code, what does the variable bacon contain?\n",
    "bacon = 22\n",
    "bacon + 1\n",
    "\n",
    "Answer  = 23"
   ]
  },
  {
   "cell_type": "raw",
   "id": "ea989256",
   "metadata": {},
   "source": [
    "7. What should the values of the following two terms be?\n",
    "'spam' + 'spamspam'\n",
    "'spam' * 3\n",
    "\n",
    "\n",
    "Answer = 'spamspamspam'"
   ]
  },
  {
   "cell_type": "raw",
   "id": "bc4c1b43",
   "metadata": {},
   "source": [
    "8. Why is eggs a valid variable name while 100 is invalid?\n",
    "\n",
    "Because variable must not start with number"
   ]
  },
  {
   "cell_type": "raw",
   "id": "fb49f831",
   "metadata": {},
   "source": [
    "9. What three functions can be used to get the integer, floating-point number, or string version of a value?\n",
    "\n",
    "int(),float(),str()"
   ]
  },
  {
   "cell_type": "raw",
   "id": "f6bba39d",
   "metadata": {},
   "source": [
    "10. Why does this expression cause an error? How can you fix it?\n",
    "'I have eaten ' + 99 + ' burritos.'\n",
    "\n",
    "Because 'I have eaten ' , ' burritos.' are string , 99 is integer, we could not concatenate string & integer\n",
    "fix : 'I have eaten ' + str(99) + ' burritos.'\n",
    "      'I have eaten ' + '99' + ' burritos.'"
   ]
  }
 ],
 "metadata": {
  "kernelspec": {
   "display_name": "Python 3",
   "language": "python",
   "name": "python3"
  },
  "language_info": {
   "codemirror_mode": {
    "name": "ipython",
    "version": 3
   },
   "file_extension": ".py",
   "mimetype": "text/x-python",
   "name": "python",
   "nbconvert_exporter": "python",
   "pygments_lexer": "ipython3",
   "version": "3.8.8"
  }
 },
 "nbformat": 4,
 "nbformat_minor": 5
}
