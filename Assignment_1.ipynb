{
 "cells": [
  {
   "cell_type": "markdown",
   "id": "5b50ea6a",
   "metadata": {},
   "source": [
    "1. In the below elements which of them are values or an expression? <br>\n",
    "\n",
    "Values:<br>\n",
    "'hello'<br>\n",
    "-87.8<br>\n",
    "6 <br>\n",
    "\n",
    "Expressions:<br>\n",
    "*<br>\n",
    "-<br>\n",
    "/<br>\n",
    "+"
   ]
  },
  {
   "cell_type": "markdown",
   "id": "67a4ab76",
   "metadata": {},
   "source": [
    "2. What is the difference between string and variable?<br>\n",
    "\n",
    "String is a datatype, it is a sequence of character data<br>\n",
    "Variable is a named location used to store data"
   ]
  },
  {
   "cell_type": "markdown",
   "id": "baa559af",
   "metadata": {},
   "source": [
    "3. Describe three different data types.<br>\n",
    "\n",
    "String - sequence of character data enclosed within quotes<br>\n",
    "Integer - Positive/Negative whole number without fraction<br>\n",
    "Float - Real number with decimal point"
   ]
  },
  {
   "cell_type": "markdown",
   "id": "8df1d011",
   "metadata": {},
   "source": [
    "4. What is an expression made up of? What do all expressions do?<br>\n",
    "\n",
    "Expression is combination of operators and operands , assigned the resultant of the expression to the named variable. It is a value or anything that execute<br>\n",
    "eg: x = 1 + 2"
   ]
  },
  {
   "cell_type": "markdown",
   "id": "afdb8c70",
   "metadata": {},
   "source": [
    "5. This assignment statements, like spam = 10. What is the difference between an expression and a statement?<br>\n",
    "\n",
    "Expression:  is a combination of operands and operators to produce values. eg: x = 1+2<br>\n",
    "\n",
    "Statement: an instruction that a python interpreter can execute, eg: a = 2, print('hello')<br>\n"
   ]
  },
  {
   "cell_type": "markdown",
   "id": "cbc732c4",
   "metadata": {},
   "source": [
    "6. After running the following code, what does the variable bacon contain?<br>\n",
    "bacon = 22<br>\n",
    "bacon + 1<br>\n",
    "\n",
    "Answer  = 23"
   ]
  },
  {
   "cell_type": "markdown",
   "id": "da8b3d59",
   "metadata": {},
   "source": [
    "7. What should the values of the following two terms be?<br>\n",
    "'spam' + 'spamspam'<br>\n",
    "'spam' * 3<br>\n",
    "\n",
    "\n",
    "Answer = 'spamspamspam'"
   ]
  },
  {
   "cell_type": "markdown",
   "id": "ea245fbc",
   "metadata": {},
   "source": [
    "8. Why is eggs a valid variable name while 100 is invalid?<br>\n",
    "\n",
    "Because variable must not start with number"
   ]
  },
  {
   "cell_type": "markdown",
   "id": "10548a17",
   "metadata": {},
   "source": [
    "9. What three functions can be used to get the integer, floating-point number, or string version of a value?<br>\n",
    "\n",
    "int(),float(),str()"
   ]
  },
  {
   "cell_type": "markdown",
   "id": "883a4d15",
   "metadata": {},
   "source": [
    "10. Why does this expression cause an error? How can you fix it?<br>\n",
    "'I have eaten ' + 99 + ' burritos.'<br>\n",
    "\n",
    "Because 'I have eaten ' , ' burritos.' are string , 99 is integer, we could not concatenate string & integer<br>\n",
    "fix : 'I have eaten ' + str(99) + ' burritos.'<br>\n",
    "      'I have eaten ' + '99' + ' burritos.'"
   ]
  },
  {
   "cell_type": "code",
   "execution_count": null,
   "id": "7e43e33b",
   "metadata": {},
   "outputs": [],
   "source": []
  }
 ],
 "metadata": {
  "kernelspec": {
   "display_name": "Python 3",
   "language": "python",
   "name": "python3"
  },
  "language_info": {
   "codemirror_mode": {
    "name": "ipython",
    "version": 3
   },
   "file_extension": ".py",
   "mimetype": "text/x-python",
   "name": "python",
   "nbconvert_exporter": "python",
   "pygments_lexer": "ipython3",
   "version": "3.8.8"
  }
 },
 "nbformat": 4,
 "nbformat_minor": 5
}
