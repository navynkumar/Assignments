{
 "cells": [
  {
   "cell_type": "markdown",
   "id": "9d9d9ed2",
   "metadata": {},
   "source": [
    "Q.1. What are keywords in python? Using the keyword library, print all the python keywords.<br>\n",
    "\n",
    "* Keywords are reserved words that has special meaning, cannot be used as identifier, immutable, used to define syntax and structure of the code"
   ]
  },
  {
   "cell_type": "markdown",
   "id": "af9cc1d2",
   "metadata": {},
   "source": [
    "Q.2. What are the rules to create variables in python?<br>\n",
    "\n",
    "* can have combinations of lower & upper case letters, digits and underscore\n",
    "* can have ASCII characters\n",
    "* cannot start with digits\n",
    "* cannot use special character\n",
    "* case-sensitive\n",
    "* cannot use reserved words"
   ]
  },
  {
   "cell_type": "markdown",
   "id": "91eb9881",
   "metadata": {},
   "source": [
    "Q.3. What are the standards and conventions followed for the nomenclature of variables in python to improve code readability and maintainability?<br>\n",
    "\n",
    "* grammatically correct variable names\n",
    "* class name should follow PascalCase convention \n",
    "* function name should follow snake_case convention\n",
    "* If function name clashes with a reserved argument, use an underscore instead of a wrong spelling.\n",
    "* Constants are declared in all capital letters."
   ]
  },
  {
   "cell_type": "markdown",
   "id": "438fb679",
   "metadata": {},
   "source": [
    "Q.4. What will happen if a keyword is used as a variable name?<br>\n",
    "\n",
    "* Keyword cannt be used as variable, it will throw syntax error"
   ]
  },
  {
   "cell_type": "markdown",
   "id": "2de4f175",
   "metadata": {},
   "source": [
    "Q.5. For what purpose def keyword is used?<br>\n",
    "\n",
    "* To define a function"
   ]
  },
  {
   "cell_type": "code",
   "execution_count": 22,
   "id": "0d15a1a1",
   "metadata": {},
   "outputs": [
    {
     "name": "stdout",
     "output_type": "stream",
     "text": [
      "Hi \"My friend\"\n"
     ]
    }
   ],
   "source": [
    "#Q.6. What is the operation of this special character ‘\\’?\n",
    "\n",
    "#to use double quotes in string datatype\n",
    "escape_character =\"Hi \\\"My friend\\\"\"\n",
    "print(escape_character)"
   ]
  },
  {
   "cell_type": "markdown",
   "id": "317acdea",
   "metadata": {},
   "source": [
    "Q.7. Give an example of the following conditions:<br>\n",
    "* Homogeneous list  - [1,2,3,4,5]\n",
    "* Heterogeneous set - {1,'a',(1,2,3)}\n",
    "* Homogeneous tuple - ('a','b','c')"
   ]
  },
  {
   "cell_type": "markdown",
   "id": "bffeb5d3",
   "metadata": {},
   "source": [
    "Q.8. Explain the mutable and immutable data types with proper explanation & examples.\n",
    "\n",
    "* Mutable Data types - object that can change it state after created and run - eg : list, dictionary\n",
    "* Immutable Data types - object that cannot change it state after created and run - eg: int, string, tuple\n"
   ]
  },
  {
   "cell_type": "code",
   "execution_count": 27,
   "id": "9a32c92e",
   "metadata": {},
   "outputs": [
    {
     "name": "stdout",
     "output_type": "stream",
     "text": [
      "    *\n",
      "   ***\n",
      "  *****\n",
      " *******\n",
      "*********\n"
     ]
    }
   ],
   "source": [
    "\"\"\"\n",
    "Q.9. Write a code to create the given structure using only for loop.\n",
    "    *\n",
    "   ***\n",
    "  *****\n",
    " *******\n",
    "*********\n",
    "\"\"\"\n",
    "\n",
    "for i in range(1,6):\n",
    "    print(' ' * (5-i) + '*' * (2*i-1))"
   ]
  },
  {
   "cell_type": "code",
   "execution_count": 37,
   "id": "c32ecc3f",
   "metadata": {},
   "outputs": [
    {
     "name": "stdout",
     "output_type": "stream",
     "text": [
      "|||||||||\n",
      " |||||||\n",
      "  |||||\n",
      "   |||\n",
      "    |\n"
     ]
    }
   ],
   "source": [
    "\"\"\"\n",
    "Q.10. Write a code to create the given structure using while loop.\n",
    "|||||||||\n",
    " |||||||\n",
    "  |||||\n",
    "   |||\n",
    "    |\n",
    "\"\"\"\n",
    "\n",
    "for i in range(5,0,-1):\n",
    "    print(' ' * (5-i) + '|' * (2*i-1))"
   ]
  }
 ],
 "metadata": {
  "kernelspec": {
   "display_name": "Python 3",
   "language": "python",
   "name": "python3"
  },
  "language_info": {
   "codemirror_mode": {
    "name": "ipython",
    "version": 3
   },
   "file_extension": ".py",
   "mimetype": "text/x-python",
   "name": "python",
   "nbconvert_exporter": "python",
   "pygments_lexer": "ipython3",
   "version": "3.8.8"
  }
 },
 "nbformat": 4,
 "nbformat_minor": 5
}
