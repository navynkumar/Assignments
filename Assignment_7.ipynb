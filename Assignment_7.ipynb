{
 "cells": [
  {
   "cell_type": "code",
   "execution_count": 5,
   "id": "b6ef6b96",
   "metadata": {},
   "outputs": [
    {
     "name": "stdout",
     "output_type": "stream",
     "text": [
      "\n",
      "    First variable is 9 & second variable is 3.\n",
      "    Addition: 9 + 3 = 12\n",
      "    Subtraction: 9 - 3 = 6\n",
      "    Multiplication: 9 * 3 = 27\n",
      "    Division: 9 / 3 = 3.0\n",
      "    \n"
     ]
    }
   ],
   "source": [
    "\"\"\"\n",
    "Q.1. Create two int type variables, apply addition, subtraction, division and multiplications\n",
    "and store the results in variables. Then print the data in the following format by calling the\n",
    "variables:\n",
    "First variable is __ & second variable is __.\n",
    "Addition: __ + __ = __\n",
    "Subtraction: __ - __ = __\n",
    "Multiplication: __ * __ = __\n",
    "Division: __ / __ = __\n",
    "\"\"\"\n",
    "\n",
    "def mathematics(a,b):\n",
    "    add,sub,multi,div = a+b, a-b, a*b, a/b\n",
    "    print(f\"\"\"\n",
    "    First variable is {a} & second variable is {b}.\n",
    "    Addition: {a} + {b} = {add}\n",
    "    Subtraction: {a} - {b} = {sub}\n",
    "    Multiplication: {a} * {b} = {multi}\n",
    "    Division: {a} / {b} = {div}\n",
    "    \"\"\")\n",
    "    \n",
    "mathematics(9,3)"
   ]
  },
  {
   "cell_type": "markdown",
   "id": "64cf4589",
   "metadata": {},
   "source": [
    "Q.2. What is the difference between the following operators: <br>\n",
    "(i) ‘/’ & ‘//’<br>\n",
    "(ii) ‘**’ & ‘^’<br>\n",
    "\n",
    "/ - division , results exact division operation, 5/2, results 2.5<br>\n",
    "//- floor division, results quotient of the division to the nearest integer, 5/3, results 1<br>\n",
    "\n",
    "****- exponential,** 2**3 results 8<br>\n",
    "^ - bitwise operator, 1 if the bits in the operands are different, 0 if they are the same, 2^3, result 1 <br>\n",
    "0010 --2<br>\n",
    "0011 --3<br>\n",
    "0001 --1"
   ]
  },
  {
   "cell_type": "markdown",
   "id": "b35ba105",
   "metadata": {},
   "source": [
    "Q.3. List the logical operators.<br>\n",
    "* AND, OR , NOT"
   ]
  },
  {
   "cell_type": "markdown",
   "id": "4d5a1679",
   "metadata": {},
   "source": [
    "Q.4. Explain right shift operator and left shift operator with examples.<br>\n",
    "\n",
    "Right shift - shift the bits of the number to the right by number of times specified. This is equal to multiplying the number by 2<br>\n",
    "eg: a = 10 (1010)<br>\n",
    "    a>>1 <br>\n",
    "    5 (0101)\n",
    "    \n",
    "Left shift - shift the bits of the number to the left by number of times specified. This is equal to multiplying the number by 2<br>\n",
    "eg: a = 10 (1010)<br>\n",
    "    a<<1<br>\n",
    "    20 (10100)\n"
   ]
  },
  {
   "cell_type": "code",
   "execution_count": 12,
   "id": "eca1b1b8",
   "metadata": {},
   "outputs": [
    {
     "name": "stdout",
     "output_type": "stream",
     "text": [
      "10 is present\n",
      "10 is not present\n"
     ]
    }
   ],
   "source": [
    "\"\"\"\n",
    "Q.5. Create a list containing int type data of length 15. Then write a code to check if 10 is present in the list or not.\n",
    "\"\"\"\n",
    "list1 = [1,2,3,4,5,6,7,8,9,10,11,12,13,14,15]\n",
    "list2 = [1,2,3,4,5,6,7,8,9,11,12,13,14,15,16]\n",
    "\n",
    "def find_ten(num_list):\n",
    "    if 10 in num_list:\n",
    "        print(\"10 is present\")\n",
    "        \n",
    "    else:\n",
    "        print(\"10 is not present\")\n",
    "        \n",
    "find_ten(list1)\n",
    "find_ten(list2)"
   ]
  }
 ],
 "metadata": {
  "kernelspec": {
   "display_name": "Python 3",
   "language": "python",
   "name": "python3"
  },
  "language_info": {
   "codemirror_mode": {
    "name": "ipython",
    "version": 3
   },
   "file_extension": ".py",
   "mimetype": "text/x-python",
   "name": "python",
   "nbconvert_exporter": "python",
   "pygments_lexer": "ipython3",
   "version": "3.8.8"
  }
 },
 "nbformat": 4,
 "nbformat_minor": 5
}
